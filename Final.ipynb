{
 "cells": [
  {
   "cell_type": "code",
   "execution_count": 1,
   "metadata": {},
   "outputs": [],
   "source": [
    "import pandas as pd\n",
    "import numpy as np\n",
    "from sklearn.preprocessing import MinMaxScaler\n",
    "import matplotlib.pyplot as plt"
   ]
  },
  {
   "cell_type": "markdown",
   "metadata": {},
   "source": [
    "# ebayScraper.py\n",
    "## Used for generating {category}.csv\n",
    "### (API Keys have been removed)"
   ]
  },
  {
   "cell_type": "markdown",
   "metadata": {},
   "source": [
    "```python\n",
    "\n",
    "import requests\n",
    "import time\n",
    "import os\n",
    "import re\n",
    "from bs4 import BeautifulSoup\n",
    "\n",
    "#\n",
    "# View Item URL is used to scrape seller data\n",
    "#\n",
    "\n",
    "view_item = 'https://api.ebay.com/buy/browse/v1/item/v1|{ITEM NUMBER HERE}|0'\n",
    "\n",
    "#\n",
    "# Completed Items is API URL for finding completed items... Update Category ID # for category you want to scrape\n",
    "#\n",
    "\n",
    "completed_items = 'http://svcs.ebay.com/services/search/FindingService/v1?OPERATION-NAME=findCompletedItems&SECURITY-APPNAME=APIKEY&RESPONSE-DATA-FORMAT=JSON&REST-PAYLOAD&keywords=&categoryId={INPUT CATEGORY ID HERE}&itemFilter(0).name=ListingType&itemFilter(0).value=FixedPrice&paginationInput.entriesPerPage=100&paginationInput.pageNumber=1&sortOrder=StartTimeNewest'\n",
    "\n",
    "#\n",
    "# Authorization Token is constantly updating\n",
    "#\n",
    "\n",
    "headers = {'Authorization':'API KEY'}\n",
    "\n",
    "r = requests.get(completed_items)\n",
    "data = r.json()\n",
    "number_of_pages = data['findCompletedItemsResponse'][0]['paginationOutput'][0]['totalPages'][0]\n",
    "print('Number of Pages: '+number_of_pages)\n",
    "\n",
    "with open('dataframe.csv','w') as dataframe:\n",
    "        dataframe.write('item_number, item_title, payment_method, postal_code, shipping_method, sales_price, selling_state, best_offer, bin_available, start_time, end_time, listing_type, returns_accepted, condition, top_rated, seller, feedback_percentage, feedback_score, description\\n')\n",
    "\n",
    "count = 0\n",
    "\n",
    "#\n",
    "# Rename CSV for {category}.csv\n",
    "#\n",
    "\n",
    "with open('dataframe.csv','a') as dataframe:\n",
    "    for i in range (1,int(number_of_pages)):\n",
    "        completed_items = 'http://svcs.ebay.com/services/search/FindingService/v1?OPERATION-NAME=findCompletedItems&SECURITY-APPNAME=APIKEY&RESPONSE-DATA-FORMAT=JSON&REST-PAYLOAD&keywords=&categoryId=%2011450&itemFilter(0).name=ListingType&itemFilter(0).value=FixedPrice&paginationInput.entriesPerPage=100&paginationInput.pageNumber='+str(i)+'&sortOrder=StartTimeNewest'\n",
    "        r = requests.get(completed_items, headers=headers)\n",
    "        data = r.json()\n",
    "\n",
    "        for j in range (0,100):\n",
    "            item_number = data['findCompletedItemsResponse'][0]['searchResult'][0]['item'][j]['itemId'][0]\n",
    "            item_title = str(data['findCompletedItemsResponse'][0]['searchResult'][0]['item'][j]['title'][0]).replace(\",\", \"\")\n",
    "            item_title = item_title.replace('\"', \"\")\n",
    "            item_title = item_title.replace(\"'\", \"\")\n",
    "            try:\n",
    "                payment_method = data['findCompletedItemsResponse'][0]['searchResult'][0]['item'][j]['paymentMethod'][0]\n",
    "            except:\n",
    "                payment_method = 'NA'\n",
    "            try:\n",
    "                postal_code = data['findCompletedItemsResponse'][0]['searchResult'][0]['item'][j]['postalCode'][0]\n",
    "            except:\n",
    "                postal_code = '00000'\n",
    "            # location = data['findCompletedItemsResponse'][0]['searchResult'][0]['item'][j]['location'][0]\n",
    "            shipping_method = data['findCompletedItemsResponse'][0]['searchResult'][0]['item'][j]['shippingInfo'][0]['shippingType'][0]\n",
    "            sales_price = data['findCompletedItemsResponse'][0]['searchResult'][0]['item'][j]['sellingStatus'][0]['convertedCurrentPrice'][0]['__value__']\n",
    "            selling_state = data['findCompletedItemsResponse'][0]['searchResult'][0]['item'][j]['sellingStatus'][0]['sellingState'][0]\n",
    "            best_offer = data['findCompletedItemsResponse'][0]['searchResult'][0]['item'][j]['listingInfo'][0]['bestOfferEnabled'][0]\n",
    "            bin_available = data['findCompletedItemsResponse'][0]['searchResult'][0]['item'][j]['listingInfo'][0]['buyItNowAvailable'][0]\n",
    "            start_time = data['findCompletedItemsResponse'][0]['searchResult'][0]['item'][j]['listingInfo'][0]['startTime'][0]\n",
    "            end_time = data['findCompletedItemsResponse'][0]['searchResult'][0]['item'][j]['listingInfo'][0]['endTime'][0]\n",
    "            listing_type = data['findCompletedItemsResponse'][0]['searchResult'][0]['item'][j]['listingInfo'][0]['listingType'][0]\n",
    "            returns_accepted = data['findCompletedItemsResponse'][0]['searchResult'][0]['item'][j]['returnsAccepted'][0]\n",
    "            try:\n",
    "                condition = data['findCompletedItemsResponse'][0]['searchResult'][0]['item'][j]['condition'][0]['conditionId'][0]\n",
    "            except:\n",
    "                condition = 'NA'\n",
    "            top_rated = data['findCompletedItemsResponse'][0]['searchResult'][0]['item'][j]['topRatedListing'][0]\n",
    "\n",
    "            print(item_number)\n",
    "            count += 1\n",
    "            print('\\033c')\n",
    "            print(str(count) +\" items | pages:  \"+ str(i))\n",
    "\n",
    "            view_item = 'https://www.ebay.com/itm/'+str(item_number)+'?_trksid=p2349526.m4383.l10137.c10&nordt=true&rt=nc&orig_cvip=true0'\n",
    "            try:\n",
    "                r = requests.get(view_item)\n",
    "                soup = BeautifulSoup(r.text, 'html.parser')\n",
    "\n",
    "                seller = soup.find(class_='mbg-nw').text\n",
    "\n",
    "                feedback_percentage = soup.find(id='si-fb')\n",
    "                feedback_percentage = re.sub(\"[^0-9.]\", \"\", str(feedback_percentage))\n",
    "\n",
    "                feedback_score = soup.find(class_='mbg-l')\n",
    "                feedback_score = re.sub(\"[^0-9]\", \"\", str(feedback_score.text))\n",
    "\n",
    "                #\n",
    "                # View Description is URL for scraping item description, only len() is used\n",
    "                #\n",
    "\n",
    "                view_description = 'https://vi.vipr.ebaydesc.com/ws/eBayISAPI.dll?ViewItemDescV4&item='+str(item_number)\n",
    "                r = requests.get(view_description)\n",
    "                soup = BeautifulSoup(r.text, 'html.parser')\n",
    "\n",
    "                print(view_description)\n",
    "\n",
    "                description = soup.find(id='ds_div')\n",
    "                description = len(description.text)\n",
    "\n",
    "            except:\n",
    "                print('excepted')\n",
    "                time.sleep(1)\n",
    "                seller = 'NA'\n",
    "                feedback_percentage = 'NA'\n",
    "                feedback_score = 'NA'\n",
    "                description = 'NA'\n",
    "\n",
    "            line = [item_number, item_title, payment_method, postal_code, shipping_method, sales_price, selling_state, best_offer, bin_available, start_time, end_time, listing_type, returns_accepted, condition, top_rated, seller, feedback_percentage, feedback_score, str(description)+'\\n']\n",
    "            dataframe.write(','.join(str(v) for v in line))\n",
    "```"
   ]
  },
  {
   "cell_type": "markdown",
   "metadata": {},
   "source": [
    "# Feedback.ipynb\n",
    "## Used for scraping seller reviews from the sellers in {category}.csv"
   ]
  },
  {
   "cell_type": "markdown",
   "metadata": {},
   "source": [
    "```python\n",
    "import pandas as pd\n",
    "import numpy as np\n",
    "import itertools as it\n",
    "from requests import get\n",
    "from bs4 import BeautifulSoup as bs4\n",
    "from time import sleep, time\n",
    "from random import randint\n",
    "\n",
    "startTime = time()\n",
    "\n",
    "csvs = ['books', 'clothing', 'collectables', 'healthbeauty', 'homegarden', 'iphones', 'music', 'sporting']\n",
    "users = []\n",
    "for csv in csvs:\n",
    "    csv = pd.read_csv(csv + '.csv')\n",
    "\n",
    "    users = []\n",
    "    for index in csv.index:\n",
    "        users.append(csv.loc[index][' seller'])\n",
    "    users = list(dict.fromkeys(users))\n",
    "users.pop(0)\n",
    "\n",
    "feedback_lists = []\n",
    "ratings_lists = []\n",
    "feedback_descriptions = []\n",
    "user_fault = []\n",
    "for user in users:\n",
    "    #sleep(randint(1,3))\n",
    "    print(user, \"Elapsed Time: \", time()-startTime)\n",
    "    request = get('https://feedback.ebay.com/ws/eBayISAPI.dll?ViewFeedback2&userid=' + str(user))\n",
    "    page_html = bs4(request.text, 'html.parser')\n",
    "    \n",
    "    try:\n",
    "        feedback_table=page_html.find('div', class_='CentralArea').find('table', {'id':'recentFeedbackRatingsTable'})\n",
    "        \n",
    "    except:\n",
    "        print(\"Top Seller\")\n",
    "        user_fault.append(user)\n",
    "        continue\n",
    "    try:\n",
    "        rows = feedback_table.find_all('tr', class_='fbsSmallYukon')\n",
    "    except:\n",
    "        print(\"Top Seller\")\n",
    "        user_fault.append(user)\n",
    "        continue\n",
    "\n",
    "    feedback_row = []\n",
    "    for row in rows:\n",
    "        feedback = row.find_all('td', {'id':'RFRId'})\n",
    "        feedback_row.append(feedback)\n",
    "\n",
    "    positive = []\n",
    "    neutral = []\n",
    "    negative = []\n",
    "    count = 0\n",
    "    while count < 3:\n",
    "        one_month = ''\n",
    "        six_month = ''\n",
    "        twelve_month = ''\n",
    "\n",
    "        try:\n",
    "            one_month = feedback_row[count][0].a.text\n",
    "        except:\n",
    "            # It's a span instead of a and just ends up outputting 0 basically means no feedback\n",
    "            one_month = '0'\n",
    "\n",
    "        try:\n",
    "            six_month = feedback_row[count][1].a.text\n",
    "        except:\n",
    "            six_month = '0'\n",
    "\n",
    "        try:\n",
    "            twelve_month = feedback_row[count][2].a.text\n",
    "        except:\n",
    "            twelve_month = '0'\n",
    "\n",
    "        if count == 0:\n",
    "            positive.append(one_month)\n",
    "            positive.append(six_month)\n",
    "            positive.append(twelve_month)\n",
    "        elif count == 1:\n",
    "            neutral.append(one_month)\n",
    "            neutral.append(six_month)\n",
    "            neutral.append(twelve_month)\n",
    "        elif count == 2:\n",
    "            negative.append(one_month)\n",
    "            negative.append(six_month)\n",
    "            negative.append(twelve_month)\n",
    "\n",
    "        count = count + 1\n",
    "\n",
    "    feedback_list = positive + neutral + negative\n",
    "    feedback_lists.append(feedback_list)\n",
    "    \n",
    "    detailed_table = page_html.find('div', class_='CentralArea').find('div', class_='dsrRatingContent')\n",
    "    try:\n",
    "        rows = detailed_table.find_all('tr', class_='dsrRatingContentPadding')\n",
    "        row_criterias = []\n",
    "        row_ratings = []\n",
    "        row_number_of_ratings = []\n",
    "        for i in range(len(rows)):\n",
    "            row_details = rows[i].find_all('td')\n",
    "            row_criterias.append(row_details[0].text)\n",
    "            row_ratings.append(row_details[1]['title'])\n",
    "            row_number_of_ratings.append(row_details[2].text)\n",
    "            #print(row_criteria, row_rating, row_number_of_ratings)\n",
    "\n",
    "        ratings_list = [item for pair in zip(row_ratings, row_number_of_ratings + [0]) for item in pair]\n",
    "        ratings_lists.append(ratings_list)\n",
    "    except:\n",
    "        l = [None] * 8\n",
    "        ratings_lists.append(l)\n",
    "    \n",
    "    feedback_table_detail = page_html.find('table', class_='FbOuterYukon')\n",
    "    try:\n",
    "        seller_feedback = feedback_table_detail.find_all('tr', class_='')\n",
    "    except:\n",
    "        l = ['Private Feedback'] * 5\n",
    "        feedback_descriptions.append(l)\n",
    "        continue\n",
    "\n",
    "    feedback_description = []\n",
    "    count = 0\n",
    "    while count < 5:\n",
    "        try:\n",
    "            feedback_description.append(seller_feedback[count].find_all('td')[1].text)\n",
    "        except:\n",
    "            feedback_description.append('N/A')\n",
    "        count += 1\n",
    "    feedback_descriptions.append(feedback_description)\n",
    "```"
   ]
  },
  {
   "cell_type": "markdown",
   "metadata": {},
   "source": [
    "## Read each individual category's CSV into its own pandas dataframe"
   ]
  },
  {
   "cell_type": "code",
   "execution_count": 2,
   "metadata": {},
   "outputs": [
    {
     "data": {
      "text/plain": [
       "Index(['item_number', ' item_title', ' payment_method', ' postal_code',\n",
       "       ' shipping_method', ' sales_price', ' selling_state', ' best_offer',\n",
       "       ' bin_available', ' start_time', ' end_time', ' listing_type',\n",
       "       ' returns_accepted', ' condition', ' top_rated', ' seller',\n",
       "       ' feedback_percentage', ' feedback_score', ' description'],\n",
       "      dtype='object')"
      ]
     },
     "execution_count": 2,
     "metadata": {},
     "output_type": "execute_result"
    }
   ],
   "source": [
    "iphones = pd.read_csv('iphones.csv')\n",
    "androids = pd.read_csv('android.csv')\n",
    "applelaptops = pd.read_csv('applelaptops.csv')\n",
    "pclaptops = pd.read_csv('pclaptops.csv')\n",
    "books = pd.read_csv('books.csv')\n",
    "clothing = pd.read_csv('clothing.csv')\n",
    "collectables = pd.read_csv('collectables.csv')\n",
    "healthbeauty = pd.read_csv('healthbeauty.csv')\n",
    "homegarden = pd.read_csv('homegarden.csv')\n",
    "music = pd.read_csv('music.csv')\n",
    "sporting = pd.read_csv('sporting.csv')\n",
    "\n",
    "# Test Columns\n",
    "iphones.columns"
   ]
  },
  {
   "cell_type": "code",
   "execution_count": 3,
   "metadata": {},
   "outputs": [],
   "source": [
    "dataframes = [\n",
    "    iphones,\n",
    "    androids,\n",
    "    applelaptops,\n",
    "    pclaptops,\n",
    "    books,\n",
    "    clothing,\n",
    "    collectables,\n",
    "    healthbeauty,\n",
    "    homegarden,\n",
    "    music,\n",
    "    sporting\n",
    "]"
   ]
  },
  {
   "cell_type": "code",
   "execution_count": 4,
   "metadata": {},
   "outputs": [
    {
     "data": {
      "text/plain": [
       "0      0 days 00:04:25\n",
       "1      0 days 00:05:15\n",
       "2      0 days 00:12:48\n",
       "3      0 days 00:00:34\n",
       "4      0 days 00:36:15\n",
       "             ...      \n",
       "9995   3 days 16:26:01\n",
       "9996   3 days 16:26:06\n",
       "9997   3 days 16:26:10\n",
       "9998   3 days 16:26:17\n",
       "9999   3 days 18:36:43\n",
       "Name: time_to_sell, Length: 10000, dtype: timedelta64[ns]"
      ]
     },
     "execution_count": 4,
     "metadata": {},
     "output_type": "execute_result"
    },
    {
     "data": {
      "image/png": "[encoded data removed]",
      "text/plain": [
       "<Figure size 432x288 with 1 Axes>"
      ]
     },
     "metadata": {
      "needs_background": "light"
     },
     "output_type": "display_data"
    }
   ],
   "source": [
    "scaler = MinMaxScaler()\n",
    "\n",
    "\n",
    "for df in dataframes:\n",
    "    df[' description'] = scaler.fit_transform(df[[' description']])\n",
    "    df[' start_time'] = pd.to_datetime(df[' start_time'])\n",
    "    df[' end_time'] = pd.to_datetime(df[' end_time'])\n",
    "    df['time_to_sell'] =  df[' end_time'] - df[' start_time']\n",
    "    \n",
    "# Test to see scaler applied\n",
    "collectables[' description']\n",
    "plt.ylabel(\"Scaled Decription Length\")\n",
    "plt.xlabel(\"Item # in CSV\")\n",
    "plt.plot(collectables[' description'])\n",
    "\n",
    "# Test that time to sell is correctly calculated with pd.to_datetime\n",
    "music['time_to_sell']"
   ]
  },
  {
   "cell_type": "code",
   "execution_count": 5,
   "metadata": {},
   "outputs": [
    {
     "name": "stderr",
     "output_type": "stream",
     "text": [
      "/usr/local/lib/python3.7/site-packages/ipykernel_launcher.py:5: SettingWithCopyWarning: \n",
      "A value is trying to be set on a copy of a slice from a DataFrame.\n",
      "Try using .loc[row_indexer,col_indexer] = value instead\n",
      "\n",
      "See the caveats in the documentation: http://pandas.pydata.org/pandas-docs/stable/user_guide/indexing.html#returning-a-view-versus-a-copy\n",
      "  \"\"\"\n",
      "/usr/local/lib/python3.7/site-packages/ipykernel_launcher.py:6: SettingWithCopyWarning: \n",
      "A value is trying to be set on a copy of a slice from a DataFrame.\n",
      "Try using .loc[row_indexer,col_indexer] = value instead\n",
      "\n",
      "See the caveats in the documentation: http://pandas.pydata.org/pandas-docs/stable/user_guide/indexing.html#returning-a-view-versus-a-copy\n",
      "  \n",
      "/usr/local/lib/python3.7/site-packages/ipykernel_launcher.py:7: SettingWithCopyWarning: \n",
      "A value is trying to be set on a copy of a slice from a DataFrame.\n",
      "Try using .loc[row_indexer,col_indexer] = value instead\n",
      "\n",
      "See the caveats in the documentation: http://pandas.pydata.org/pandas-docs/stable/user_guide/indexing.html#returning-a-view-versus-a-copy\n",
      "  import sys\n"
     ]
    },
    {
     "data": {
      "text/plain": [
       "Timedelta('1 days 20:35:17.641715')"
      ]
     },
     "execution_count": 5,
     "metadata": {},
     "output_type": "execute_result"
    }
   ],
   "source": [
    "test = iphones[(iphones[' feedback_score']) < 1 &\n",
    "        (iphones[' description'] < 0.002) &\n",
    "        (pd.isnull(iphones[' feedback_percentage']) == True)]\n",
    "\n",
    "test[' start_time'] = pd.to_datetime(test[' start_time'])\n",
    "test[' end_time'] = pd.to_datetime(test[' end_time'])\n",
    "test['Diff'] =  test[' end_time'] - test[' start_time']\n",
    "# test[[' start_time', ' end_time', 'Diff']]\n",
    "iphones['time_to_sell'].mean()"
   ]
  },
  {
   "cell_type": "markdown",
   "metadata": {},
   "source": [
    "# Preliminary Filtering\n",
    "## (0 Feedback, Description Length < .002 on MinMax scale, Feedback % = Null)"
   ]
  },
  {
   "cell_type": "code",
   "execution_count": 6,
   "metadata": {},
   "outputs": [],
   "source": [
    "iphone_scams = iphones[(iphones[' feedback_score']) < 1 &\n",
    "        (iphones[' description'] < 0.002) &\n",
    "        (pd.isnull(iphones[' feedback_percentage']) == True)]\n",
    "\n",
    "android_scams = androids[(androids[' feedback_score']) < 1 &\n",
    "        (androids[' description'] < 0.002) &\n",
    "        (pd.isnull(androids[' feedback_percentage']) == True)]\n",
    "\n",
    "applelaptop_scams = applelaptops[(applelaptops[' feedback_score']) < 1 &\n",
    "        (applelaptops[' description'] < 0.002) &\n",
    "        (pd.isnull(applelaptops[' feedback_percentage']) == True)]\n",
    "\n",
    "pclaptop_scams = pclaptops[(pclaptops[' feedback_score']) < 1 &\n",
    "        (pclaptops[' description'] < 0.002) &\n",
    "        (pd.isnull(pclaptops[' feedback_percentage']) == True)]\n",
    "\n",
    "books_scams = books[(books[' feedback_score']) < 1 &\n",
    "        (books[' description'] < 0.002) &\n",
    "        (pd.isnull(books[' feedback_percentage']) == True)]\n",
    "\n",
    "clothing_scams = clothing[(clothing[' feedback_score']) < 1 &\n",
    "        (clothing[' description'] < 0.002) &\n",
    "        (pd.isnull(clothing[' feedback_percentage']) == True)]\n",
    "\n",
    "collectables_scams = collectables[(collectables[' feedback_score']) < 1 &\n",
    "        (collectables[' description'] < 0.002) &\n",
    "        (pd.isnull(collectables[' feedback_percentage']) == True)]\n",
    "\n",
    "healthbeauty_scams = healthbeauty[(healthbeauty[' feedback_score']) < 1 &\n",
    "        (healthbeauty[' description'] < 0.002) &\n",
    "        (pd.isnull(healthbeauty[' feedback_percentage']) == True)]\n",
    "\n",
    "homegarden_scams = homegarden[(homegarden[' feedback_score']) < 1 &\n",
    "        (homegarden[' description'] < 0.002) &\n",
    "        (pd.isnull(homegarden[' feedback_percentage']) == True)]\n",
    "\n",
    "music_scams = music[(music[' feedback_score']) < 1 &\n",
    "        (music[' description'] < 0.002) &\n",
    "        (pd.isnull(music[' feedback_percentage']) == True)]\n",
    "\n",
    "sporting_scams = sporting[(sporting[' feedback_score']) < 1 &\n",
    "        (sporting[' description'] < 0.002) &\n",
    "        (pd.isnull(sporting[' feedback_percentage']) == True)]"
   ]
  },
  {
   "cell_type": "code",
   "execution_count": 7,
   "metadata": {},
   "outputs": [],
   "source": [
    "iphone_scamrate = len(iphone_scams) / len(iphones)\n",
    "android_scamrate = len(android_scams) / len(androids)\n",
    "applelaptop_scamrate = len(applelaptop_scams) / len(applelaptops)\n",
    "pclaptop_scamrate = len(pclaptop_scams) / len(pclaptops)\n",
    "book_scamrate = len(books_scams) / len(books)\n",
    "clothing_scamrate = len(clothing_scams) / len(clothing)\n",
    "collectable_scamrate = len(collectables_scams) / len(collectables)\n",
    "healthbeauty_scamrate = len(healthbeauty_scams) / len(healthbeauty)\n",
    "homegarden_scamrate = len(homegarden_scams) / len(homegarden)\n",
    "music_scamrate = len(music_scams) / len(music)\n",
    "sporting_scamrate = len(sporting_scams) / len(sporting)\n",
    "\n",
    "scamrate_list = [\n",
    "    iphone_scamrate,\n",
    "    applelaptop_scamrate,\n",
    "    pclaptop_scamrate,\n",
    "    book_scamrate,\n",
    "    clothing_scamrate,\n",
    "    collectable_scamrate,\n",
    "    healthbeauty_scamrate,\n",
    "    homegarden_scamrate,\n",
    "    music_scamrate,\n",
    "    sporting_scamrate,\n",
    "]\n",
    "\n",
    "scamrate_list = list(map(lambda x: x * 100, scamrate_list))"
   ]
  },
  {
   "cell_type": "code",
   "execution_count": 8,
   "metadata": {},
   "outputs": [
    {
     "name": "stdout",
     "output_type": "stream",
     "text": [
      "[3.3115755434457155, 1.9, 1.5142857142857145, 0.30120481927710846, 1.6199999999999999, 0.97009700970097, 1.66, 1.52, 0.13, 0.6]\n"
     ]
    }
   ],
   "source": [
    "print(scamrate_list)"
   ]
  },
  {
   "cell_type": "code",
   "execution_count": 9,
   "metadata": {},
   "outputs": [
    {
     "data": {
      "image/png": "[encoded data removed]",
      "text/plain": [
       "<Figure size 432x288 with 1 Axes>"
      ]
     },
     "metadata": {
      "needs_background": "light"
     },
     "output_type": "display_data"
    }
   ],
   "source": [
    "catname_list = [\n",
    "    'iPhones',\n",
    "    'Macs',\n",
    "    'PCs',\n",
    "    'Books',\n",
    "    'Clothing',\n",
    "    'Collectables',\n",
    "    'Health / Beauty',\n",
    "    'Home / Garden',\n",
    "    'Music',\n",
    "    'Sports',\n",
    "]\n",
    "index = np.arange(len(catname_list))\n",
    "plt.bar(index, scamrate_list)\n",
    "plt.xticks(index, catname_list, fontsize=15, rotation=80)\n",
    "plt.ylabel(\"Percentage of Scams\")\n",
    "plt.xlabel(\"\\nCategory\")\n",
    "plt.title('Scam Rates By Category')\n",
    "plt.show()"
   ]
  },
  {
   "cell_type": "markdown",
   "metadata": {},
   "source": [
    "## How big is the subset of scams with seller name matching [a-z]_# ?"
   ]
  },
  {
   "cell_type": "code",
   "execution_count": 10,
   "metadata": {},
   "outputs": [
    {
     "name": "stdout",
     "output_type": "stream",
     "text": [
      "[17.90235081374322, 29.736842105263158, 30.18867924528302, 10.0, 29.01234567901235, 14.432989690721648, 25.903614457831324, 30.92105263157895, 30.76923076923077, 38.333333333333336]\n"
     ]
    }
   ],
   "source": [
    "reg_iphone = len(iphone_scams[iphone_scams[' seller'].str.contains('[a-z]+_+[\\d]', regex=True)]) / len(iphone_scams) * 100\n",
    "reg_applelaptop = len(applelaptop_scams[applelaptop_scams[' seller'].str.contains('[a-z]+_+[\\d]', regex=True)]) / len(applelaptop_scams) * 100\n",
    "reg_pclaptop = len(pclaptop_scams[pclaptop_scams[' seller'].str.contains('[a-z]+_+[\\d]', regex=True)]) / len(pclaptop_scams) * 100\n",
    "reg_book = len(books_scams[books_scams[' seller'].str.contains('[a-z]+_+[\\d]', regex=True)]) / len(books_scams) * 100\n",
    "reg_clothing = len(clothing_scams[clothing_scams[' seller'].str.contains('[a-z]+_+[\\d]', regex=True)]) / len(clothing_scams) * 100\n",
    "reg_collectables = len(collectables_scams[collectables_scams[' seller'].str.contains('[a-z]+_+[\\d]', regex=True)]) / len(collectables_scams) * 100\n",
    "reg_healthbeauty = len(healthbeauty_scams[healthbeauty_scams[' seller'].str.contains('[a-z]+_+[\\d]', regex=True)]) / len(healthbeauty_scams) * 100\n",
    "reg_homegarden = len(homegarden_scams[homegarden_scams[' seller'].str.contains('[a-z]+_+[\\d]', regex=True)]) / len(homegarden_scams) * 100\n",
    "reg_music = len(music_scams[music_scams[' seller'].str.contains('[a-z]+_+[\\d]', regex=True)]) / len(music_scams) * 100\n",
    "reg_sporting = len(sporting_scams[sporting_scams[' seller'].str.contains('[a-z]+_+[\\d]', regex=True)]) / len(sporting_scams) * 100\n",
    "\n",
    "regname_list = [\n",
    "    reg_iphone,\n",
    "    reg_applelaptop,\n",
    "    reg_pclaptop,\n",
    "    reg_book,\n",
    "    reg_clothing,\n",
    "    reg_collectables,\n",
    "    reg_healthbeauty,\n",
    "    reg_homegarden,\n",
    "    reg_music,\n",
    "    reg_sporting,\n",
    "]\n",
    "\n",
    "print(regname_list)"
   ]
  },
  {
   "cell_type": "code",
   "execution_count": 11,
   "metadata": {},
   "outputs": [
    {
     "data": {
      "image/png": "[encoded data removed]",
      "text/plain": [
       "<Figure size 432x288 with 1 Axes>"
      ]
     },
     "metadata": {
      "needs_background": "light"
     },
     "output_type": "display_data"
    }
   ],
   "source": [
    "catname_list = [\n",
    "    'iPhones',\n",
    "    'Macs',\n",
    "    'PCs',\n",
    "    'Books',\n",
    "    'Clothing',\n",
    "    'Collectables',\n",
    "    'Health / Beauty',\n",
    "    'Home / Garden',\n",
    "    'Music',\n",
    "    'Sports',\n",
    "]\n",
    "index = np.arange(len(catname_list))\n",
    "plt.bar(index, regname_list)\n",
    "plt.xticks(index, catname_list, fontsize=15, rotation=80)\n",
    "plt.ylabel(\"Percentage of Names\")\n",
    "plt.xlabel(\"\\nCategory\")\n",
    "plt.title('Names like name_123')\n",
    "plt.show()"
   ]
  },
  {
   "cell_type": "code",
   "execution_count": 12,
   "metadata": {},
   "outputs": [
    {
     "data": {
      "text/plain": [
       "[Timedelta('1 days 20:35:17.641715'),\n",
       " Timedelta('3 days 16:59:30.916550'),\n",
       " Timedelta('0 days 21:05:58.888000'),\n",
       " Timedelta('1 days 00:10:01.058534'),\n",
       " Timedelta('0 days 00:49:50.149600'),\n",
       " Timedelta('0 days 09:09:20.019501'),\n",
       " Timedelta('0 days 12:30:05.909000'),\n",
       " Timedelta('0 days 07:17:00.824100'),\n",
       " Timedelta('0 days 22:28:04.634800'),\n",
       " Timedelta('0 days 05:08:54.786900')]"
      ]
     },
     "execution_count": 12,
     "metadata": {},
     "output_type": "execute_result"
    }
   ],
   "source": [
    "iphone_tts = iphones['time_to_sell'].mean()\n",
    "applelaptop_tts = applelaptops['time_to_sell'].mean()\n",
    "pclaptop_tts = pclaptops['time_to_sell'].mean()\n",
    "book_tts = books['time_to_sell'].mean()\n",
    "clothing_tts = clothing['time_to_sell'].mean()\n",
    "collectable_tts = collectables['time_to_sell'].mean()\n",
    "healthbeauty_tts = healthbeauty['time_to_sell'].mean()\n",
    "homegarden_tts = homegarden['time_to_sell'].mean()\n",
    "music_tts = music['time_to_sell'].mean()\n",
    "sporting_tts = sporting['time_to_sell'].mean()\n",
    "\n",
    "tts_list = [\n",
    "    iphone_tts,\n",
    "    applelaptop_tts,\n",
    "    pclaptop_tts,\n",
    "    book_tts,\n",
    "    clothing_tts,\n",
    "    collectable_tts,\n",
    "    healthbeauty_tts,\n",
    "    homegarden_tts,\n",
    "    music_tts,\n",
    "    sporting_tts,\n",
    "]\n",
    "\n",
    "tts_list"
   ]
  },
  {
   "cell_type": "code",
   "execution_count": 13,
   "metadata": {},
   "outputs": [
    {
     "data": {
      "text/plain": [
       "[Timedelta('0 days 08:44:25.663652'),\n",
       " Timedelta('1 days 02:01:10.431578'),\n",
       " Timedelta('0 days 10:59:58.735849'),\n",
       " Timedelta('0 days 02:18:35.766666'),\n",
       " Timedelta('0 days 00:26:14.098765'),\n",
       " Timedelta('0 days 02:08:25.092783'),\n",
       " Timedelta('0 days 12:21:28.174698'),\n",
       " Timedelta('0 days 08:59:21.578947'),\n",
       " Timedelta('0 days 11:50:45.076923'),\n",
       " Timedelta('0 days 03:59:23.416666')]"
      ]
     },
     "execution_count": 13,
     "metadata": {},
     "output_type": "execute_result"
    }
   ],
   "source": [
    "iphonescam_tts = iphone_scams['time_to_sell'].mean()\n",
    "applelaptopscam_tts = applelaptop_scams['time_to_sell'].mean()\n",
    "pclaptopscam_tts = pclaptop_scams['time_to_sell'].mean()\n",
    "bookscam_tts = books_scams['time_to_sell'].mean()\n",
    "clothingscam_tts = clothing_scams['time_to_sell'].mean()\n",
    "collectablescam_tts = collectables_scams['time_to_sell'].mean()\n",
    "healthbeautyscam_tts = healthbeauty_scams['time_to_sell'].mean()\n",
    "homegardenscam_tts = homegarden_scams['time_to_sell'].mean()\n",
    "musicscam_tts = music_scams['time_to_sell'].mean()\n",
    "sportingscam_tts = sporting_scams['time_to_sell'].mean()\n",
    "\n",
    "scamtts_list = [\n",
    "    iphonescam_tts,\n",
    "    applelaptopscam_tts,\n",
    "    pclaptopscam_tts,\n",
    "    bookscam_tts,\n",
    "    clothingscam_tts,\n",
    "    collectablescam_tts,\n",
    "    healthbeautyscam_tts,\n",
    "    homegardenscam_tts,\n",
    "    musicscam_tts,\n",
    "    sportingscam_tts,\n",
    "]\n",
    "\n",
    "scamtts_list"
   ]
  },
  {
   "cell_type": "code",
   "execution_count": 14,
   "metadata": {},
   "outputs": [
    {
     "name": "stdout",
     "output_type": "stream",
     "text": [
      "0.19602620195888096\n",
      "0.2923811954832296\n",
      "0.5213180036160613\n",
      "0.09558236194796643\n",
      "0.5264280975881608\n",
      "0.23377088059820916\n",
      "0.9884963038696764\n",
      "1.2341938157225196\n",
      "0.527233349430614\n",
      "0.774943717678567\n"
     ]
    }
   ],
   "source": [
    "for a,b in zip(scamtts_list, tts_list):\n",
    "    print(a.total_seconds() / b.total_seconds())\n",
    "    \n",
    "tts_list = [ x.total_seconds() for x in tts_list ]\n",
    "scamtts_list = [ x.total_seconds() for x in scamtts_list ]\n"
   ]
  },
  {
   "cell_type": "code",
   "execution_count": 15,
   "metadata": {},
   "outputs": [
    {
     "data": {
      "text/plain": [
       "[<matplotlib.lines.Line2D at 0x126ea4750>]"
      ]
     },
     "execution_count": 15,
     "metadata": {},
     "output_type": "execute_result"
    },
    {
     "data": {
      "image/png": "[encoded data removed]",
      "text/plain": [
       "<Figure size 432x288 with 1 Axes>"
      ]
     },
     "metadata": {
      "needs_background": "light"
     },
     "output_type": "display_data"
    }
   ],
   "source": [
    "plt.plot(tts_list)\n",
    "plt.plot(scamtts_list)"
   ]
  },
  {
   "cell_type": "code",
   "execution_count": null,
   "metadata": {},
   "outputs": [],
   "source": []
  }
 ],
 "metadata": {
  "kernelspec": {
   "display_name": "Python 3",
   "language": "python",
   "name": "python3"
  },
  "language_info": {
   "codemirror_mode": {
    "name": "ipython",
    "version": 3
   },
   "file_extension": ".py",
   "mimetype": "text/x-python",
   "name": "python",
   "nbconvert_exporter": "python",
   "pygments_lexer": "ipython3",
   "version": "3.7.4"
  }
 },
 "nbformat": 4,
 "nbformat_minor": 4
}
