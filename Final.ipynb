{
 "cells": [
  {
   "cell_type": "code",
   "execution_count": 1,
   "metadata": {},
   "outputs": [],
   "source": [
    "import pandas as pd\n",
    "import numpy as np\n",
    "from sklearn.preprocessing import MinMaxScaler\n",
    "import matplotlib.pyplot as plt"
   ]
  },
  {
   "cell_type": "code",
   "execution_count": 2,
   "metadata": {},
   "outputs": [],
   "source": [
    "iphones = pd.read_csv('iphones.csv')\n",
    "books = pd.read_csv('books.csv')\n",
    "clothing = pd.read_csv('clothing.csv')\n",
    "collectables = pd.read_csv('collectables.csv')\n",
    "healthbeauty = pd.read_csv('healthbeauty.csv')\n",
    "homegarden = pd.read_csv('homegarden.csv')\n",
    "music = pd.read_csv('music.csv')\n",
    "sporting = pd.read_csv('sporting.csv')"
   ]
  },
  {
   "cell_type": "code",
   "execution_count": 3,
   "metadata": {},
   "outputs": [
    {
     "data": {
      "text/plain": [
       "Index(['item_number', ' item_title', ' payment_method', ' postal_code',\n",
       "       ' shipping_method', ' sales_price', ' selling_state', ' best_offer',\n",
       "       ' bin_available', ' start_time', ' end_time', ' listing_type',\n",
       "       ' returns_accepted', ' condition', ' top_rated', ' seller',\n",
       "       ' feedback_percentage', ' feedback_score', ' description'],\n",
       "      dtype='object')"
      ]
     },
     "execution_count": 3,
     "metadata": {},
     "output_type": "execute_result"
    }
   ],
   "source": [
    "iphones.columns"
   ]
  },
  {
   "cell_type": "code",
   "execution_count": 4,
   "metadata": {},
   "outputs": [],
   "source": [
    "dataframes = [\n",
    "    iphones,\n",
    "    books,\n",
    "    clothing,\n",
    "    collectables,\n",
    "    healthbeauty,\n",
    "    homegarden,\n",
    "    music,\n",
    "    sporting\n",
    "]"
   ]
  },
  {
   "cell_type": "code",
   "execution_count": 5,
   "metadata": {},
   "outputs": [
    {
     "data": {
      "text/plain": [
       "[<matplotlib.lines.Line2D at 0x11ea31a90>]"
      ]
     },
     "execution_count": 5,
     "metadata": {},
     "output_type": "execute_result"
    },
    {
     "data": {
      "image/png": "[encoded data removed]",
      "text/plain": [
       "<Figure size 432x288 with 1 Axes>"
      ]
     },
     "metadata": {
      "needs_background": "light"
     },
     "output_type": "display_data"
    }
   ],
   "source": [
    "scaler = MinMaxScaler()\n",
    "\n",
    "\n",
    "for df in dataframes:\n",
    "    df[' description'] = scaler.fit_transform(df[[' description']])\n",
    "    \n",
    "# Test to see scaler applied\n",
    "collectables[' description']\n",
    "plt.plot(collectables[' description'])"
   ]
  },
  {
   "cell_type": "code",
   "execution_count": 65,
   "metadata": {},
   "outputs": [
    {
     "name": "stderr",
     "output_type": "stream",
     "text": [
      "/usr/local/lib/python3.7/site-packages/ipykernel_launcher.py:6: SettingWithCopyWarning: \n",
      "A value is trying to be set on a copy of a slice from a DataFrame.\n",
      "Try using .loc[row_indexer,col_indexer] = value instead\n",
      "\n",
      "See the caveats in the documentation: http://pandas.pydata.org/pandas-docs/stable/user_guide/indexing.html#returning-a-view-versus-a-copy\n",
      "  \n",
      "/usr/local/lib/python3.7/site-packages/ipykernel_launcher.py:7: SettingWithCopyWarning: \n",
      "A value is trying to be set on a copy of a slice from a DataFrame.\n",
      "Try using .loc[row_indexer,col_indexer] = value instead\n",
      "\n",
      "See the caveats in the documentation: http://pandas.pydata.org/pandas-docs/stable/user_guide/indexing.html#returning-a-view-versus-a-copy\n",
      "  import sys\n",
      "/usr/local/lib/python3.7/site-packages/ipykernel_launcher.py:8: SettingWithCopyWarning: \n",
      "A value is trying to be set on a copy of a slice from a DataFrame.\n",
      "Try using .loc[row_indexer,col_indexer] = value instead\n",
      "\n",
      "See the caveats in the documentation: http://pandas.pydata.org/pandas-docs/stable/user_guide/indexing.html#returning-a-view-versus-a-copy\n",
      "  \n"
     ]
    },
    {
     "data": {
      "text/plain": [
       "21      0 days 02:56:56\n",
       "38      0 days 00:09:36\n",
       "43      0 days 01:05:22\n",
       "47      0 days 03:29:38\n",
       "55      0 days 09:53:41\n",
       "              ...      \n",
       "15342   0 days 00:10:50\n",
       "15379   0 days 05:55:21\n",
       "15840   0 days 16:41:31\n",
       "16030   7 days 19:21:33\n",
       "16515   0 days 07:52:41\n",
       "Name: Diff, Length: 553, dtype: timedelta64[ns]"
      ]
     },
     "execution_count": 65,
     "metadata": {},
     "output_type": "execute_result"
    }
   ],
   "source": [
    "test = iphones[(iphones[' feedback_score']) < 1 &\n",
    "        (iphones[' description'] < 0.002) &\n",
    "        (pd.isnull(iphones[' feedback_percentage']) == True)]\n",
    "\n",
    "#test[[' start_time', ' end_time']]\n",
    "test[' start_time'] = pd.to_datetime(test[' start_time'])\n",
    "test[' end_time'] = pd.to_datetime(test[' end_time'])\n",
    "test['Diff'] =  test[' end_time'] - test[' start_time']\n",
    "\n",
    "# test[' start_time'].dtypes\n",
    "test['Diff']"
   ]
  },
  {
   "cell_type": "code",
   "execution_count": 7,
   "metadata": {},
   "outputs": [],
   "source": [
    "iphone_scams = iphones[(iphones[' feedback_score']) < 1 &\n",
    "        (iphones[' description'] < 0.002) &\n",
    "        (pd.isnull(iphones[' feedback_percentage']) == True)]\n",
    "\n",
    "books_scams = books[(books[' feedback_score']) < 1 &\n",
    "        (books[' description'] < 0.002) &\n",
    "        (pd.isnull(books[' feedback_percentage']) == True)]\n",
    "\n",
    "clothing_scams = clothing[(clothing[' feedback_score']) < 1 &\n",
    "        (clothing[' description'] < 0.002) &\n",
    "        (pd.isnull(clothing[' feedback_percentage']) == True)]\n",
    "\n",
    "collectables_scams = collectables[(collectables[' feedback_score']) < 1 &\n",
    "        (collectables[' description'] < 0.002) &\n",
    "        (pd.isnull(collectables[' feedback_percentage']) == True)]\n",
    "\n",
    "healthbeauty_scams = healthbeauty[(healthbeauty[' feedback_score']) < 1 &\n",
    "        (healthbeauty[' description'] < 0.002) &\n",
    "        (pd.isnull(healthbeauty[' feedback_percentage']) == True)]\n",
    "\n",
    "homegarden_scams = homegarden[(homegarden[' feedback_score']) < 1 &\n",
    "        (homegarden[' description'] < 0.002) &\n",
    "        (pd.isnull(homegarden[' feedback_percentage']) == True)]\n",
    "\n",
    "music_scams = music[(music[' feedback_score']) < 1 &\n",
    "        (music[' description'] < 0.002) &\n",
    "        (pd.isnull(music[' feedback_percentage']) == True)]\n",
    "\n",
    "sporting_scams = sporting[(sporting[' feedback_score']) < 1 &\n",
    "        (sporting[' description'] < 0.002) &\n",
    "        (pd.isnull(sporting[' feedback_percentage']) == True)]"
   ]
  },
  {
   "cell_type": "code",
   "execution_count": 37,
   "metadata": {},
   "outputs": [],
   "source": [
    "iphone_scamrate = len(iphone_scams) / len(iphones)\n",
    "book_scamrate = len(books_scams) / len(books)\n",
    "clothing_scamrate = len(clothing_scams) / len(clothing)\n",
    "collectable_scamrate = len(collectables_scams) / len(collectables)\n",
    "healthbeauty_scamrate = len(healthbeauty_scams) / len(healthbeauty)\n",
    "homegarden_scamrate = len(homegarden_scams) / len(homegarden)\n",
    "music_scamrate = len(music_scams) / len(music)\n",
    "sporting_scamrate = len(sporting_scams) / len(sporting)\n",
    "\n",
    "scamrate_list = [\n",
    "    iphone_scamrate,\n",
    "    book_scamrate,\n",
    "    clothing_scamrate,\n",
    "    collectable_scamrate,\n",
    "    healthbeauty_scamrate,\n",
    "    homegarden_scamrate,\n",
    "    music_scamrate,\n",
    "    sporting_scamrate,\n",
    "]\n",
    "\n",
    "scamrate_list = list(map(lambda x: x * 100, scamrate_list))"
   ]
  },
  {
   "cell_type": "code",
   "execution_count": 38,
   "metadata": {},
   "outputs": [
    {
     "name": "stdout",
     "output_type": "stream",
     "text": [
      "[3.3115755434457155, 0.30120481927710846, 1.6199999999999999, 0.97009700970097, 1.66, 1.52, 0.13, 0.6]\n"
     ]
    }
   ],
   "source": [
    "print(scamrate_list)"
   ]
  },
  {
   "cell_type": "code",
   "execution_count": 56,
   "metadata": {},
   "outputs": [
    {
     "data": {
      "image/png": "[encoded data removed]",
      "text/plain": [
       "<Figure size 432x288 with 1 Axes>"
      ]
     },
     "metadata": {
      "needs_background": "light"
     },
     "output_type": "display_data"
    }
   ],
   "source": [
    "catname_list = [\n",
    "    'iPhones',\n",
    "    'Books',\n",
    "    'Clothing',\n",
    "    'Collectables',\n",
    "    'Health / Beauty',\n",
    "    'Home / Garden',\n",
    "    'Music',\n",
    "    'Sports',\n",
    "]\n",
    "index = np.arange(len(catname_list))\n",
    "plt.bar(index, scamrate_list)\n",
    "plt.xticks(index, catname_list, fontsize=15, rotation=80)\n",
    "plt.show()"
   ]
  },
  {
   "cell_type": "code",
   "execution_count": null,
   "metadata": {},
   "outputs": [],
   "source": []
  }
 ],
 "metadata": {
  "kernelspec": {
   "display_name": "Python 3",
   "language": "python",
   "name": "python3"
  },
  "language_info": {
   "codemirror_mode": {
    "name": "ipython",
    "version": 3
   },
   "file_extension": ".py",
   "mimetype": "text/x-python",
   "name": "python",
   "nbconvert_exporter": "python",
   "pygments_lexer": "ipython3",
   "version": "3.7.4"
  }
 },
 "nbformat": 4,
 "nbformat_minor": 4
}
