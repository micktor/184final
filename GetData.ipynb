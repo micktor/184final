{
 "cells": [
  {
   "cell_type": "code",
   "execution_count": null,
   "metadata": {},
   "outputs": [],
   "source": [
    "import requests\n",
    "import time\n",
    "import os"
   ]
  },
  {
   "cell_type": "code",
   "execution_count": null,
   "metadata": {},
   "outputs": [],
   "source": [
    "# browse_url = 'https://api.ebay.com/buy/browse/v1/item/v1|333403365541|0'\n",
    "headers = {'Authorization':'Bearer v^1.1#i^1#r^0#p^3#f^0#I^3#t^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'}"
   ]
  },
  {
   "cell_type": "code",
   "execution_count": null,
   "metadata": {},
   "outputs": [],
   "source": [
    "# r = requests.get(browse_url, headers= headers)\n",
    "\n",
    "# print(r.json())"
   ]
  },
  {
   "cell_type": "code",
   "execution_count": null,
   "metadata": {},
   "outputs": [],
   "source": [
    "# completed_url = 'http://svcs.ebay.com/services/search/FindingService/v1?OPERATION-NAME=findCompletedItems&SECURITY-APPNAME=A-FORMAT=JSON&REST-PAYLOAD&keywords=iphone&categoryId=9355&aspectFilter(0).aspectName=Model&aspectFilter(0).aspectValueName(0)=Apple%20iPhone%20X&aspectFilter(0).aspectValueName(1)=Apple%20iPhone%20XS&aspectFilter(0).aspectValueName(2)=Apple%20iPhone%20XS%20Max&aspectFilter(0).aspectValueName(3)=Apple%20iPhone%2011&aspectFilter(0).aspectValueName(4)=Apple%20iPhone%2011%20Pro&aspectFilter(0).aspectValueName(5)=Apple%20iPhone%2011%20Pro%20Max&itemFilter(0).name=MaxPrice&itemFilter(0).value(0)=800.00&itemFilter(1).name=ListingType&itemFilter(1).value=FixedPrice&itemFilter(2).name=Condition&itemFilter(2).value(0)=1500&itemFilter(2).value(1)=2000&itemFilter(2).value(2)=2500&itemFilter(2).value(3)=3000&itemFilter(2).value(4)=4000&itemFilter(2).value(5)=6000&itemFilter(2).value(6)=7000&paginationInput.entriesPerPage=100&paginationInput.pageNumber=1&sortOrder=StartTimeNewest'"
   ]
  },
  {
   "cell_type": "code",
   "execution_count": null,
   "metadata": {},
   "outputs": [],
   "source": [
    "completed_url = 'http://svcs.ebay.com/services/search/FindingService/v1?OPERATION-NAME=findCompletedItems&SECURITY-APPNAME=MarkMile-lopik-PRD-6a6d0a603-7d4ce629&RESPONSE-DATA-FORMAT=JSON&REST-PAYLOAD&keywords=iphone&categoryId=9355&aspectFilter(0).aspectName=Model&aspectFilter(0).aspectValueName(0)=Apple%20iPhone%20X&aspectFilter(0).aspectValueName(1)=Apple%20iPhone%20XS&aspectFilter(0).aspectValueName(2)=Apple%20iPhone%20XS%20Max&aspectFilter(0).aspectValueName(3)=Apple%20iPhone%2011&aspectFilter(0).aspectValueName(4)=Apple%20iPhone%2011%20Pro&aspectFilter(0).aspectValueName(5)=Apple%20iPhone%2011%20Pro%20Max&itemFilter(0).name=MaxPrice&itemFilter(0).value(0)=800.00&itemFilter(1).name=ListingType&itemFilter(1).value=FixedPrice&itemFilter(2).name=Condition&itemFilter(2).value(0)=1500&itemFilter(2).value(1)=2000&itemFilter(2).value(2)=2500&itemFilter(2).value(3)=3000&itemFilter(2).value(4)=4000&itemFilter(2).value(5)=6000&itemFilter(2).value(6)=7000&paginationInput.entriesPerPage=100&paginationInput.pageNumber=1&sortOrder=StartTimeNewest'\n",
    "headers = {'Authorization':'Bearer v^1.1#i^1#r^0#p^3#f^0#I^3#t^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'}\n",
    "r = requests.get(completed_url, headers=headers)\n",
    "data = r.json()\n",
    "number_of_pages = data['findCompletedItemsResponse'][0]['paginationOutput'][0]['totalPages'][0]\n",
    "print(number_of_pages)\n",
    "\n",
    "count = 0\n",
    "\n",
    "for i in range (1,int(number_of_pages)):\n",
    "    completed_url = 'http://svcs.ebay.com/services/search/FindingService/v1?OPERATION-NAME=findCompletedItems&SECURITY-APPNAME=MarkMile-lopik-PRD-6a6d0a603-7d4ce629&RESPONSE-DATA-FORMAT=JSON&REST-PAYLOAD&keywords=iphone&categoryId=9355&aspectFilter(0).aspectName=Model&aspectFilter(0).aspectValueName(0)=Apple%20iPhone%20X&aspectFilter(0).aspectValueName(1)=Apple%20iPhone%20XS&aspectFilter(0).aspectValueName(2)=Apple%20iPhone%20XS%20Max&aspectFilter(0).aspectValueName(3)=Apple%20iPhone%2011&aspectFilter(0).aspectValueName(4)=Apple%20iPhone%2011%20Pro&aspectFilter(0).aspectValueName(5)=Apple%20iPhone%2011%20Pro%20Max&itemFilter(0).name=MaxPrice&itemFilter(0).value(0)=800.00&itemFilter(1).name=ListingType&itemFilter(1).value=FixedPrice&itemFilter(2).name=Condition&itemFilter(2).value(0)=1500&itemFilter(2).value(1)=2000&itemFilter(2).value(2)=2500&itemFilter(2).value(3)=3000&itemFilter(2).value(4)=4000&itemFilter(2).value(5)=6000&itemFilter(2).value(6)=7000&paginationInput.entriesPerPage=100&paginationInput.pageNumber='+str(i)+'&sortOrder=StartTimeNewest'\n",
    "    r = requests.get(completed_url, headers=headers)\n",
    "    data = r.json()\n",
    "    \n",
    "    for j in range (0,100):\n",
    "        item_number = data['findCompletedItemsResponse'][0]['searchResult'][0]['item'][j]['itemId'][0]\n",
    "        print(item_number)\n",
    "        count += 1\n",
    "        clear()\n",
    "        print(count)\n",
    "    \n",
    "# for i in range (0,100):\n",
    "#     print(data['findCompletedItemsResponse'][0]['searchResult'][0]['item'][i]['itemId'][0])"
   ]
  },
  {
   "cell_type": "code",
   "execution_count": null,
   "metadata": {},
   "outputs": [],
   "source": [
    "find_url = 'https://svcs.ebay.com/services/search/FindingService/v1?OPERATION-NAME=findItemsAdvanced&SECURITY-APPNAME=MarkMile-lopik-PRD-6a6d0a603-7d4ce629&RESPONSE-DATA-FORMAT=JSON&REST-PAYLOAD&keywords=&categoryId=111422&aspectFilter(0).aspectName=Release Year&aspectFilter(0).aspectValueName(0)=2016&aspectFilter(0).aspectValueName(1)=2017&aspectFilter(0).aspectValueName(2)=2018&aspectFilter(0).aspectValueName(3)=2019&aspectFilter(1).aspectName=Product Family&aspectFilter(1).aspectValueName(0)=MacBook Pro&aspectFilter(1).aspectValueName(1)=Macbook&aspectFilter(1).aspectValueName(2)=Not Specified&itemFilter(0).name=MaxPrice&itemFilter(0).value(0)=1000.00&itemFilter(1).name=Condition&itemFilter(1).value(0)=1500&itemFilter(1).value(1)=2000&itemFilter(1).value(2)=2500&itemFilter(1).value(3)=3000&itemFilter(1).value(4)=7000&itemFilter(2).name=ListingType&itemFilter(2).value=FixedPrice&paginationInput.entriesPerPage=5&sortOrder=StartTimeNewest'"
   ]
  },
  {
   "cell_type": "code",
   "execution_count": null,
   "metadata": {},
   "outputs": [],
   "source": [
    "r = requests.get(find_url, headers=headers)\n",
    "\n",
    "print(r.json())"
   ]
  },
  {
   "cell_type": "code",
   "execution_count": 1,
   "metadata": {},
   "outputs": [],
   "source": [
    "import pandas as pd"
   ]
  },
  {
   "cell_type": "code",
   "execution_count": 7,
   "metadata": {},
   "outputs": [],
   "source": [
    "df = pd.read_csv('dataframe.csv', nrows=500)"
   ]
  },
  {
   "cell_type": "code",
   "execution_count": null,
   "metadata": {},
   "outputs": [],
   "source": [
    "df"
   ]
  },
  {
   "cell_type": "code",
   "execution_count": 49,
   "metadata": {},
   "outputs": [],
   "source": [
    "import requests\n",
    "r = requests.get('https://vi.vipr.ebaydesc.com/ws/eBayISAPI.dll?ViewItemDescV4&item=174109847448')"
   ]
  },
  {
   "cell_type": "code",
   "execution_count": 50,
   "metadata": {},
   "outputs": [
    {
     "data": {
      "text/plain": [
       "'<script type=\"text/javascript\"> \\r\\n\\t\\twindow.onerror = function(message, url, line) {\\r\\n\\t\\t\\treturn true;\\r\\n\\t\\t};\\r\\n\\t</script>\\r\\n\\t<script type=\"text/javascript\"> \\r\\n\\t\\tvar ebayItemID=\\'174109847448\\';\\r\\n\\t\\tvar ebayItemRevisionTime=\\'\\';\\r\\n\\t\\tvar ebayAskSellerURL=\\'\\';\\r\\n\\t\\tvar _odtTitle = \\'\\';\\r\\n\\t\\tvar _odtSubTitle = \\'\\';\\r\\n\\t\\tvar _isTranslError = false;\\r\\n\\t\\tvar _sellerId = \\'\\';\\r\\n\\t\\tvar _dmn = \\'ebay.com\\';\\r\\n\\t</script>\\r\\n\\t<script type=\"text/javascript\">\\r\\n\\ttry{\\r\\n\\t\\tvar jsonObj = {};\\r\\n\\t\\tvar hashParam = document.location.hash;\\r\\n\\t\\tif(hashParam && hashParam.length > 0){\\r\\n\\t\\t\\thashParam = decodeURI(hashParam.replace(\\'#\\', \\'\\'));\\r\\n\\t\\t}\\r\\n\\t\\tif(hashParam && typeof(hashParam) === \\'string\\'){\\r\\n\\t\\t\\tjsonObj = JSON.parse(hashParam);\\r\\n\\t\\t}\\r\\n\\t\\tif(jsonObj && jsonObj.jsUrl){\\r\\n\\t\\t\\tvar jsUrl = jsonObj.jsUrl;\\r\\n\\t\\t\\tvar script = document.createElement(\\'script\\');\\r\\n\\t\\t\\tif(jsUrl.indexOf(\\'//\\') != -1){\\r\\n\\t\\t\\t\\tscript.src = jsUrl;\\t\\r\\n\\t\\t\\t}else{\\r\\n\\t\\t\\t\\tscript.src = \\'//ir.ebaystatic.com/rs/v/\\'+jsUrl+\\'.js\\';\\r\\n\\t\\t\\t}\\r\\n\\t\\t\\tscript.defer = true;\\r\\n\\t\\t\\tdocument.head.appendChild(script); \\r\\n\\t\\t}\\r\\n\\t\\tif(jsonObj && jsonObj.title){\\r\\n\\t\\t\\tvar title = jsonObj.title;\\r\\n\\t\\t\\tdocument.title = title;\\r\\n\\t\\t}\\r\\n\\t}catch(e){\\r\\n\\t\\t\\r\\n\\t}\\r\\n\\t</script>\\r\\n\\t<title>eBay</title>\\r\\n\\t<table align=\"center\" style=\"border-spacing: 0px; width: 100%;\">\\n\\t<tr>\\n\\t\\t<td>\\n\\t\\t\\t<div id=\"ds_div\">\\n\\t\\t\\t\\t\\t\\t\\tApple iPhone X 256GB Space Gray Unlocked Fair Condition. Condition is Used. Shipped with USPS Priority Mail. </div>\\n\\t\\t\\t\\t\\t\\t</td>\\n\\t</tr>\\n</table><span id=\"closeHtml\"></span>\\n<script type=\"text/javascript\">\\r\\n\\t\\tvar _rfr = \\'\\';\\r\\n\\t</script>\\r\\n\\t<script src=\"https://ir.ebaystatic.com/rs/v/1yzqmzxk3a3utciscis2t10n1uu.js\" type=\"text/javascript\"></script><img src=\\'https://rover.ebay.com/roversync/?site=0&stg=1&mpt=1574964549565\\'></img>'"
      ]
     },
     "execution_count": 50,
     "metadata": {},
     "output_type": "execute_result"
    }
   ],
   "source": [
    "r.text"
   ]
  },
  {
   "cell_type": "code",
   "execution_count": 51,
   "metadata": {},
   "outputs": [],
   "source": [
    "from bs4 import BeautifulSoup"
   ]
  },
  {
   "cell_type": "code",
   "execution_count": 54,
   "metadata": {},
   "outputs": [
    {
     "data": {
      "text/plain": [
       "117"
      ]
     },
     "execution_count": 54,
     "metadata": {},
     "output_type": "execute_result"
    }
   ],
   "source": [
    "soup = BeautifulSoup(r.text, 'html.parser')\n",
    "des = soup.find(id='ds_div')\n",
    "len(des.text)"
   ]
  },
  {
   "cell_type": "code",
   "execution_count": 33,
   "metadata": {},
   "outputs": [
    {
     "data": {
      "text/plain": [
       "'redphone14'"
      ]
     },
     "execution_count": 33,
     "metadata": {},
     "output_type": "execute_result"
    }
   ],
   "source": [
    "r = requests.get('https://www.ebay.com/itm/193230566932?_trksid=p2349526.m4383.l10137.c10&nordt=true&rt=nc&orig_cvip=true')\n",
    "soup = BeautifulSoup(r.text, 'html.parser')\n",
    "des = soup.find(class_='mbg-nw')\n",
    "des.text"
   ]
  },
  {
   "cell_type": "code",
   "execution_count": 35,
   "metadata": {},
   "outputs": [
    {
     "data": {
      "text/plain": [
       "'87.5'"
      ]
     },
     "execution_count": 35,
     "metadata": {},
     "output_type": "execute_result"
    }
   ],
   "source": [
    "import re\n",
    "feedback = soup.find(id='si-fb')\n",
    "feedback = re.sub(\"[^0-9.]\", \"\", str(feedback))\n",
    "feedback"
   ]
  },
  {
   "cell_type": "code",
   "execution_count": 40,
   "metadata": {},
   "outputs": [
    {
     "data": {
      "text/plain": [
       "'12'"
      ]
     },
     "execution_count": 40,
     "metadata": {},
     "output_type": "execute_result"
    }
   ],
   "source": [
    "score = soup.find(class_='mbg-l')\n",
    "score = re.sub(\"[^0-9]\", \"\", str(score.text))\n",
    "score"
   ]
  },
  {
   "cell_type": "code",
   "execution_count": 48,
   "metadata": {},
   "outputs": [
    {
     "ename": "AttributeError",
     "evalue": "'NoneType' object has no attribute 'text'",
     "output_type": "error",
     "traceback": [
      "\u001b[0;31m---------------------------------------------------------------------------\u001b[0m",
      "\u001b[0;31mAttributeError\u001b[0m                            Traceback (most recent call last)",
      "\u001b[0;32m<ipython-input-48-97097f59130d>\u001b[0m in \u001b[0;36m<module>\u001b[0;34m\u001b[0m\n\u001b[1;32m      1\u001b[0m \u001b[0mdesc\u001b[0m \u001b[0;34m=\u001b[0m \u001b[0msoup\u001b[0m\u001b[0;34m.\u001b[0m\u001b[0mfind\u001b[0m\u001b[0;34m(\u001b[0m\u001b[0mid\u001b[0m\u001b[0;34m=\u001b[0m\u001b[0;34m'ds_div'\u001b[0m\u001b[0;34m)\u001b[0m\u001b[0;34m\u001b[0m\u001b[0;34m\u001b[0m\u001b[0m\n\u001b[0;32m----> 2\u001b[0;31m \u001b[0mdesc\u001b[0m\u001b[0;34m.\u001b[0m\u001b[0mtext\u001b[0m\u001b[0;34m\u001b[0m\u001b[0;34m\u001b[0m\u001b[0m\n\u001b[0m",
      "\u001b[0;31mAttributeError\u001b[0m: 'NoneType' object has no attribute 'text'"
     ]
    }
   ],
   "source": [
    "desc = soup.find(id='ds_div')\n",
    "desc"
   ]
  },
  {
   "cell_type": "code",
   "execution_count": 55,
   "metadata": {},
   "outputs": [],
   "source": [
    "df = pd.read_csv('iphone.csv')"
   ]
  },
  {
   "cell_type": "code",
   "execution_count": 57,
   "metadata": {},
   "outputs": [
    {
     "data": {
      "text/plain": [
       "<bound method DataFrame.duplicated of        item_number                                         item_title  \\\n",
       "0     202832988171         Apple iPhone x - 64GB - Black (CDMA + GSM)   \n",
       "1     202833321254  Apple iPhone XS Max - 256GB - Gold (Unlocked) ...   \n",
       "2     383291315341  Apple iPhone XS Max - 64GB - Gold (AT&T) A1921...   \n",
       "3     184059556528  Apple iPhone X - 64GB - Silver (Unlocked) A190...   \n",
       "4     401976717289  Apple iPhone XS - 64GB - Space Gray (Verizon) ...   \n",
       "...            ...                                                ...   \n",
       "6694  143454603436  Apple iPhone XS Max - 64GB - Gold (T-Mobile) A...   \n",
       "6695  233416686922  Apple iPhone X - 64GB - Silver (Sprint) BAD ES...   \n",
       "6696  123991144808  Apple iPhone 11 Pro Max - 64GB - Midnight Gree...   \n",
       "6697  233416683139  Apple iPhone 11 - 64GB - Purple (Unlocked) IC ...   \n",
       "6698  113991159035  Apple iPhone X 64GB Space Gray (T-Mobile) A190...   \n",
       "\n",
       "      payment_method  postal_code  shipping_method   sales_price  \\\n",
       "0             PayPal        701**             Free        400.00   \n",
       "1             PayPal        331**             Free        709.00   \n",
       "2             PayPal        922**       Calculated        544.00   \n",
       "3             PayPal        537**             Flat        450.00   \n",
       "4             PayPal        327**             Free         99.95   \n",
       "...              ...          ...              ...           ...   \n",
       "6694          PayPal        212**             Free        597.00   \n",
       "6695          PayPal        307**             Free         79.97   \n",
       "6696          PayPal        121**             Flat        789.00   \n",
       "6697          PayPal        322**             Free        335.00   \n",
       "6698          PayPal        852**             Free        249.99   \n",
       "\n",
       "          selling_state   best_offer   bin_available  \\\n",
       "0     EndedWithoutSales        False           False   \n",
       "1        EndedWithSales         True           False   \n",
       "2     EndedWithoutSales         True           False   \n",
       "3        EndedWithSales         True           False   \n",
       "4        EndedWithSales        False           False   \n",
       "...                 ...          ...             ...   \n",
       "6694     EndedWithSales        False           False   \n",
       "6695  EndedWithoutSales        False           False   \n",
       "6696     EndedWithSales        False           False   \n",
       "6697     EndedWithSales        False           False   \n",
       "6698     EndedWithSales        False           False   \n",
       "\n",
       "                    start_time                  end_time    listing_type  \\\n",
       "0     2019-11-29T02:48:11.000Z  2019-11-28T16:16:26.000Z      FixedPrice   \n",
       "1     2019-11-29T01:01:26.000Z  2019-11-28T16:19:52.000Z      FixedPrice   \n",
       "2     2019-11-28T19:19:44.000Z  2019-11-28T19:20:52.000Z      FixedPrice   \n",
       "3     2019-11-28T19:05:55.000Z  2019-11-28T19:16:27.000Z      FixedPrice   \n",
       "4     2019-11-28T18:36:46.000Z  2019-11-28T18:37:15.000Z      FixedPrice   \n",
       "...                        ...                       ...             ...   \n",
       "6694  2019-11-27T22:09:02.000Z  2019-11-28T19:44:28.000Z  StoreInventory   \n",
       "6695  2019-11-27T22:04:33.000Z  2019-11-28T17:23:11.000Z      FixedPrice   \n",
       "6696  2019-11-27T22:00:42.000Z  2019-11-28T07:06:02.000Z      FixedPrice   \n",
       "6697  2019-11-27T21:59:30.000Z  2019-11-27T22:45:09.000Z  StoreInventory   \n",
       "6698  2019-11-27T21:37:56.000Z  2019-11-27T21:41:16.000Z      FixedPrice   \n",
       "\n",
       "       returns_accepted   condition   top_rated             seller  \\\n",
       "0                 False        3000       False        towill-5153   \n",
       "1                 False        1500       False        iakus_iakus   \n",
       "2                 False        3000       False       edwipadill-5   \n",
       "3                 False        3000       False         neirodubel   \n",
       "4                  True        7000       False          studele86   \n",
       "...                 ...         ...         ...                ...   \n",
       "6694               True        3000        True     bargain_thrift   \n",
       "6695              False        7000       False     socialmediazen   \n",
       "6696              False        3000       False            ekeller   \n",
       "6697              False        7000       False     thefitzgeralds   \n",
       "6698               True        7000       False  smart3onlinesales   \n",
       "\n",
       "       feedback_percentage   feedback_score   description  \n",
       "0                      NaN              0.0         577.0  \n",
       "1                    100.0             99.0         113.0  \n",
       "2                     94.1             15.0         183.0  \n",
       "3                    100.0            872.0         175.0  \n",
       "4                    100.0             61.0        2994.0  \n",
       "...                    ...              ...           ...  \n",
       "6694                  99.6           2655.0         780.0  \n",
       "6695                 100.0             87.0         208.0  \n",
       "6696                 100.0           1789.0         239.0  \n",
       "6697                 100.0            566.0         289.0  \n",
       "6698                  99.3            811.0         272.0  \n",
       "\n",
       "[6699 rows x 19 columns]>"
      ]
     },
     "execution_count": 57,
     "metadata": {},
     "output_type": "execute_result"
    }
   ],
   "source": []
  },
  {
   "cell_type": "code",
   "execution_count": null,
   "metadata": {},
   "outputs": [],
   "source": []
  }
 ],
 "metadata": {
  "kernelspec": {
   "display_name": "Python 3",
   "language": "python",
   "name": "python3"
  },
  "language_info": {
   "codemirror_mode": {
    "name": "ipython",
    "version": 3
   },
   "file_extension": ".py",
   "mimetype": "text/x-python",
   "name": "python",
   "nbconvert_exporter": "python",
   "pygments_lexer": "ipython3",
   "version": "3.7.4"
  }
 },
 "nbformat": 4,
 "nbformat_minor": 4
}
